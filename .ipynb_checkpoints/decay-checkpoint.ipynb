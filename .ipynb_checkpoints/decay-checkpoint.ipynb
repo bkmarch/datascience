{
 "cells": [
  {
   "cell_type": "code",
   "execution_count": 1,
   "metadata": {
    "collapsed": true
   },
   "outputs": [],
   "source": [
    "#Turn off gene X and protein x decays. Once x falls below threshold, gene Y turns off and protein y decays.\n",
    "#start with increase of x. keep steady. then decay.\n",
    "#y will start at some time t. when x reaches some threshold, turn y off.\n",
    "\n",
    "#decay works\n",
    "#Now implement a decay that starts only when a dependent protein level drops to a certain number.\n",
    "#Need to ensure the dependent protein is dropping so derivative needs to be negative as well.\n"
   ]
  },
  {
   "cell_type": "code",
   "execution_count": 1,
   "metadata": {
    "collapsed": false,
    "scrolled": true
   },
   "outputs": [],
   "source": [
    "from scipy.integrate import odeint\n",
    "import numpy as np\n",
    "import matplotlib.pyplot as plt\n",
    "import sys\n",
    "from ff1 import *"
   ]
  },
  {
   "cell_type": "code",
   "execution_count": 2,
   "metadata": {
    "collapsed": true
   },
   "outputs": [],
   "source": [
    "decay_interval = {'x': [0],'y':[0],'z':[0]}"
   ]
  },
  {
   "cell_type": "code",
   "execution_count": 3,
   "metadata": {
    "collapsed": true
   },
   "outputs": [],
   "source": [
    "class decay():\n",
    "\n",
    "    def __init__(self, protein):\n",
    "        self.p = protein\n",
    "        self.ss = float(beta[self.p])/float(alpha[self.p])\n",
    "\n",
    "    def s_ode(self, ss, t, b, c):\n",
    "        dydt_2 = np.array(-1 * alpha[self.p] * ss)\n",
    "        return dydt_2\n",
    "\n",
    "    def plvl_decay(self):\n",
    "        self.time_decay()\n",
    "        dd,ee,ff = time_interval[self.p]\n",
    "        y_out = odeint(self.s_ode, np.array(self.ss), np.linspace(dd,ee,ff), args=(self.ss, alpha[self.p]))\n",
    "        return y_out\n",
    "\n",
    "    def time_decay(self):\n",
    "        x,y,z = time_interval[self.p]\t#grab time where protein increase -> steady\n",
    "        decay_interval[self.p] = (y,y+3,z)\t#start decay at end of time interval"
   ]
  },
  {
   "cell_type": "code",
   "execution_count": 4,
   "metadata": {
    "collapsed": true
   },
   "outputs": [],
   "source": [
    "def threshold(protein):\t#check at what times predecessors hit minimum activation lvl\n",
    "\n",
    "    for i in min_input[protein]:\n",
    "        if i == None:\t#empty set\n",
    "            pass\t\n",
    "        else:\t#has some minimum required protein level predecessor \n",
    "            predecessor_time(protein, i)\n",
    "\n",
    "            if type(time_interval[protein]) is tuple:\n",
    "                pass\n",
    "            else:\n",
    "                start = time_interval[protein]\t\t\t\t\t\t\t\t#create interval of time starting\n",
    "                time_interval[protein] = (start, start + 3, 100)\t#when last requirement met.    "
   ]
  },
  {
   "cell_type": "code",
   "execution_count": 5,
   "metadata": {
    "collapsed": true
   },
   "outputs": [],
   "source": [
    "def parent_check():#runs check to see whether all parent conditions are satisfied\n",
    "    pass"
   ]
  },
  {
   "cell_type": "code",
   "execution_count": 6,
   "metadata": {
    "collapsed": false
   },
   "outputs": [
    {
     "data": {
      "image/png": "[encoded data removed]",
      "text/plain": [
       "<matplotlib.figure.Figure at 0x7733cb0>"
      ]
     },
     "metadata": {},
     "output_type": "display_data"
    }
   ],
   "source": [
    "xi = p_time('x')\n",
    "xii = xi.p_level()\t\n",
    "xd = decay('x')\n",
    "xdd = xd.plvl_decay()\n",
    "threshold('y')\n",
    "yi = p_time('y')\n",
    "yii = yi.p_level()\n",
    "yd = decay('y')\n",
    "ydd = yd.plvl_decay()\n",
    "\n",
    "\n",
    "#Can clean up below using loop.\n",
    "a,b,c = time_interval['x']\n",
    "d,e,f = decay_interval['x']\n",
    "g,h,i = time_interval['y']\n",
    "j,k,l = decay_interval['y']\n",
    "\n",
    "plt.plot(np.linspace(a,b,c), xii[:,0], 'b', label = 'incX')\t\n",
    "plt.plot(np.linspace(d,e,f), xdd[:,0], 'b', label = 'decX')\t\n",
    "plt.plot(np.linspace(g,h,i), yii[:,0], 'y', label = 'incY')\t\n",
    "plt.plot(np.linspace(j,k,l), ydd[:,0], 'y', label = 'decY')\t\n",
    "plt.legend(loc='best')\n",
    "plt.xlabel('t')\n",
    "plt.grid()\n",
    "plt.show()"
   ]
  },
  {
   "cell_type": "code",
   "execution_count": null,
   "metadata": {
    "collapsed": true
   },
   "outputs": [],
   "source": []
  }
 ],
 "metadata": {
  "kernelspec": {
   "display_name": "Python 2",
   "language": "python",
   "name": "python2"
  },
  "language_info": {
   "codemirror_mode": {
    "name": "ipython",
    "version": 2
   },
   "file_extension": ".py",
   "mimetype": "text/x-python",
   "name": "python",
   "nbconvert_exporter": "python",
   "pygments_lexer": "ipython2",
   "version": "2.7.13"
  }
 },
 "nbformat": 4,
 "nbformat_minor": 2
}
