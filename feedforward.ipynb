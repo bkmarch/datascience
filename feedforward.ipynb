{
 "cells": [
  {
   "cell_type": "code",
   "execution_count": null,
   "metadata": {
    "collapsed": true
   },
   "outputs": [],
   "source": [
    "from scipy.integrate import odeint\n",
    "import numpy as np\n",
    "import matplotlib.pyplot as plt"
   ]
  },
  {
   "cell_type": "code",
   "execution_count": null,
   "metadata": {
    "collapsed": true
   },
   "outputs": [],
   "source": [
    "#feed forward 1\n",
    "#work on the differential equation portion first.\n",
    "#https://docs.scipy.org/doc/scipy-0.18.1/reference/generated/scipy.integrate.odeint.html#scipy.integrate.odeint\n",
    "#DE methods\n",
    "#http://tutorial.math.lamar.edu/Classes/DE/IntroFirstOrder.aspx\n"
   ]
  },
  {
   "cell_type": "code",
   "execution_count": null,
   "metadata": {
    "collapsed": true
   },
   "outputs": [],
   "source": [
    "min_input = {'x':[None],'y':[('x',2)],'z':[('x',2),('y',1)]}\n",
    "\n",
    "#alpha and beta parameters. (decay and production respectively)\n",
    "\n",
    "beta = {'x':5,'y':7,'z':3}\n",
    "alpha = {'x':2,\t'y':4,'z':5}\n",
    "\n",
    "#initial dosage\n",
    "y0 = {'x':0,'y':0,'z':0}\n",
    "\n",
    "#start, stop, steps\n",
    "time_interval = {'x': (0, 3, 100),'y':[0],'z':[0]}\n",
    "\n",
    "graph = ['x','y','z']"
   ]
  },
  {
   "cell_type": "code",
   "execution_count": null,
   "metadata": {
    "collapsed": true
   },
   "outputs": [],
   "source": [
    "class p_time():\t#calculate protein levels at various times.\n",
    "\n",
    "\n",
    "#time model of protein levels\n",
    "#beta is production rate of protein\n",
    "#alpha is degradation rate\n",
    "#y is protein amount\n",
    "\n",
    "\n",
    "    def __init__(self , protein):\t\n",
    "        self.p = protein\n",
    "\n",
    "    def p_level(self):\t#protein level solver\n",
    "        y00 = np.array(y0[self.p])\t#initial concentration\t\t\n",
    "        a,b,c = time_interval[self.p]\n",
    "        x_out = odeint(self.ode, y00, np.linspace(a,b,c), args=(beta[self.p],alpha[self.p]))\t#ODE solution\n",
    "        return x_out\n",
    "\n",
    "    def ode(self, y, t, b, a):\t#ODE equation\n",
    "        dydt = np.array(beta[self.p] - alpha[self.p] * y)\n",
    "        return dydt\n",
    "\n",
    "    def p_t_level(self, lvl):\t#returns the Time at which protein reaches specified lvl.\n",
    "        #used first order linear ODE. integrating factor method. floats to keep decimals\n",
    "        time = np.log(float(float(-1 * float(lvl) * alpha[self.p] / beta[self.p]) + 1)) / (-1 * alpha[self.p])\n",
    "        return time"
   ]
  },
  {
   "cell_type": "code",
   "execution_count": null,
   "metadata": {
    "collapsed": true
   },
   "outputs": [],
   "source": [
    "def threshold(protein):                                   #check at what times predecessors hit minimum activation lvl\n",
    "    for i in min_input[protein]:\n",
    "        if i == None:#empty set\n",
    "            pass\n",
    "        else:                                             #has some minimum required protein level predecessor \n",
    "            predecessor_time(protein, i)\n",
    "\n",
    "    if type(time_interval[protein]) is tuple:\n",
    "        pass\n",
    "    else:\n",
    "        start = time_interval[protein]                    #create interval of time starting\n",
    "        time_interval[protein] = (start, start + 3, 100)  #when last requirement met."
   ]
  },
  {
   "cell_type": "code",
   "execution_count": null,
   "metadata": {
    "collapsed": true
   },
   "outputs": [],
   "source": [
    "def predecessor_time(p, m):\t#find when protein p starts producing based on predecessor levels\n",
    "    p_needed, lvl_needed = m\n",
    "    (u,v,w) = time_interval[p_needed]\t#u is start time of predecessor. \n",
    "    k = p_time(p_needed)\t\t\t\t#instance of predecessor needed\n",
    "    time = k.p_t_level(lvl_needed)\t\t#time calculates how long takes for protein to reach level\n",
    "    if time_interval[p] < u + time:\t\t#if start time of other factor is limiting(later), replace start time\t\t\n",
    "        time_interval[p] = u + time\t\t#u needs to be added because start time of an intermediate(ex:y) not 0"
   ]
  },
  {
   "cell_type": "code",
   "execution_count": 1,
   "metadata": {
    "collapsed": true
   },
   "outputs": [],
   "source": [
    "def plot(x, y, z):\n",
    "\n",
    "    k = p_time(x)\t#instance\n",
    "    l = k.p_level()\t#ODE solver\n",
    "\n",
    "    m = p_time(y)\n",
    "    n = m.p_level()\n",
    "\n",
    "    o = p_time(z)\n",
    "    q = o.p_level()\n",
    "\n",
    "    a,b,c = time_interval[x]    #calculated (start ,stop , #measurements)\n",
    "    d,e,f = time_interval[y]\n",
    "    g,h,i = time_interval[z]\n",
    "\n",
    "    plt.plot(np.linspace(a,b,c), l[:,0], 'y', label = 'x')\n",
    "    plt.plot(np.linspace(d,e,f), n[:,0], 'b', label = 'y')\t\n",
    "    plt.plot(np.linspace(g,h,i), q[:,0], 'g', label = 'z')\t\n",
    "    plt.legend(loc='best')\n",
    "    plt.xlabel('t')\n",
    "    plt.grid()\n",
    "    plt.show()"
   ]
  },
  {
   "cell_type": "code",
   "execution_count": null,
   "metadata": {
    "collapsed": true
   },
   "outputs": [],
   "source": [
    "#test\n",
    "#threshold('x')\n",
    "#threshold('y')\n",
    "#threshold('z')\n",
    "#plot('x','y','z')\n"
   ]
  }
 ],
 "metadata": {
  "kernelspec": {
   "display_name": "Python 2",
   "language": "python",
   "name": "python2"
  },
  "language_info": {
   "codemirror_mode": {
    "name": "ipython",
    "version": 2
   },
   "file_extension": ".py",
   "mimetype": "text/x-python",
   "name": "python",
   "nbconvert_exporter": "python",
   "pygments_lexer": "ipython2",
   "version": "2.7.13"
  }
 },
 "nbformat": 4,
 "nbformat_minor": 2
}
