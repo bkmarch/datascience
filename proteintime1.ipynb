{
 "cells": [
  {
   "cell_type": "markdown",
   "metadata": {},
   "source": [
    "# Protein Activation after Threshold Reached"
   ]
  },
  {
   "cell_type": "code",
   "execution_count": 1,
   "metadata": {
    "collapsed": true
   },
   "outputs": [],
   "source": [
    "from scipy.integrate import odeint\n",
    "import numpy as np\n",
    "import matplotlib.pyplot as plt"
   ]
  },
  {
   "cell_type": "code",
   "execution_count": 10,
   "metadata": {
    "collapsed": false
   },
   "outputs": [],
   "source": [
    "#work on the differential equation portion first.\n",
    "#https://docs.scipy.org/doc/scipy-0.18.1/reference/generated/scipy.integrate.odeint.html#scipy.integrate.odeint\n",
    "#DE methods\n",
    "#http://tutorial.math.lamar.edu/Classes/DE/IntroFirstOrder.aspx\n",
    "\n",
    "#Feed forward motif. X-> Y, X->Z, Y->Z. all arrows signify promoter activity.\n"
   ]
  },
  {
   "cell_type": "code",
   "execution_count": 3,
   "metadata": {
    "collapsed": true
   },
   "outputs": [],
   "source": [
    "min_input = {'x':[None],\n",
    "\t\t\t'y':[('x',2)],\n",
    "\t\t\t'z':[('x',2),('y',1)]\n",
    "\t\t\t}\t\n",
    "beta = {'x':5,\n",
    "\t\t'y':7,\n",
    "\t\t'z':3\n",
    "\t\t}\n",
    "alpha = {'x':2,\t#alpha and beta parameters. (decay and production respectively)\n",
    "\t\t'y':4,\n",
    "\t\t'z':5\n",
    "\t\t}\t\t\t\t\n",
    "y0 = {'x':0,\t#initial dosage\n",
    "\t'y':0,\n",
    "\t'z':0\n",
    "\t}\t\n",
    "time_interval = {'x': (0, 3, 100),\t#start, stop, steps\n",
    "\t\t\t'y':[0],\n",
    "\t\t\t'z':[0]\n",
    "\t\t\t}\t\n",
    "graph = ['x','y','z']"
   ]
  },
  {
   "cell_type": "code",
   "execution_count": 4,
   "metadata": {
    "collapsed": true
   },
   "outputs": [],
   "source": [
    "class p_time():\t#calculate protein levels at various times.\n",
    "\n",
    "\t\"\"\"\n",
    "\ttime model of protein levels\n",
    "\tbeta is production rate of protein\n",
    "\talpha is degradation rate\n",
    "\ty is protein amount\n",
    "\t\"\"\"\n",
    "\n",
    "\tdef __init__(self , protein):\t\n",
    "\t\tself.p = protein\n",
    "\t\t\t\n",
    "\tdef p_level(self):\t#protein level solver\n",
    "\t\ty00 = np.array(y0[self.p])\t#initial concentration\t\t\n",
    "\t\ta,b,c = time_interval[self.p]\n",
    "\t\tx_out = odeint(self.ode, y00, np.linspace(a,b,c), args=(beta[self.p],alpha[self.p]))\t#ODE solution\n",
    "\t\treturn x_out\n",
    "\t\n",
    "\tdef ode(self, y, t, b, a):\t#ODE equation\n",
    "\t\tdydt = np.array(beta[self.p] - alpha[self.p] * y)\n",
    "\t\treturn dydt\n",
    "\t\t\n",
    "\tdef p_t_level(self, lvl):\t#returns the Time at which protein reaches specified lvl.\n",
    "\t\t#used first order linear ODE. integrating factor method. floats to keep decimals\n",
    "\t\ttime = np.log(float(float(-1 * float(lvl) * alpha[self.p] / beta[self.p]) + 1)) / (-1 * alpha[self.p])\n",
    "\t\treturn time"
   ]
  },
  {
   "cell_type": "code",
   "execution_count": 5,
   "metadata": {
    "collapsed": true
   },
   "outputs": [],
   "source": [
    "def threshold(protein):\t#check at what times predecessors hit minimum activation lvl\n",
    "\t\n",
    "\tfor i in min_input[protein]:\n",
    "\t\tif i == None:\t#empty set\n",
    "\t\t\tpass\t\n",
    "\t\telse:\t#has some minimum required protein level predecessor \n",
    "\t\t\tpredecessor_time(protein, i)\n",
    "\t\n",
    "\tif type(time_interval[protein]) is tuple:\n",
    "\t\tpass\n",
    "\telse:\n",
    "\t\tstart = time_interval[protein]\t\t\t\t\t\t\t\t#create interval of time starting\n",
    "\t\ttime_interval[protein] = (start, start + 3, 100)\t#when last requirement met."
   ]
  },
  {
   "cell_type": "code",
   "execution_count": 6,
   "metadata": {
    "collapsed": true
   },
   "outputs": [],
   "source": [
    "def predecessor_time(p, m):\t#find when protein p starts producing based on predecessor levels\n",
    "\tp_needed, lvl_needed = m\n",
    "\t(u,v,w) = time_interval[p_needed]\t#u is start time of predecessor. \n",
    "\tk = p_time(p_needed)\t\t\t\t#instance of predecessor needed\n",
    "\ttime = k.p_t_level(lvl_needed)\t\t#time calculates how long takes for protein to reach level\n",
    "\tif time_interval[p] < u + time:\t\t#if start time of other factor is limiting(later), replace start time\t\t\n",
    "\t\ttime_interval[p] = u + time\t\t#u needs to be added because start time of an intermediate(ex:y) not 0"
   ]
  },
  {
   "cell_type": "code",
   "execution_count": 7,
   "metadata": {
    "collapsed": true
   },
   "outputs": [],
   "source": [
    "def plot(x, y, z):\n",
    "\n",
    "\tk = p_time(x)\t#instance\n",
    "\tl = k.p_level()\t#ODE solver\n",
    "\t\n",
    "\tm = p_time(y)\n",
    "\tn = m.p_level()\n",
    "\t\n",
    "\to = p_time(z)\n",
    "\tq = o.p_level()\n",
    "\t\n",
    "\ta,b,c = time_interval[x]\t#calculated (start ,stop , #measurements)\n",
    "\td,e,f = time_interval[y]\n",
    "\tg,h,i = time_interval[z]\n",
    "\t\n",
    "\tplt.plot(np.linspace(a,b,c), l[:,0], 'y', label = 'x')\n",
    "\tplt.plot(np.linspace(d,e,f), n[:,0], 'b', label = 'y')\t\n",
    "\tplt.plot(np.linspace(g,h,i), q[:,0], 'g', label = 'z')\t\n",
    "\tplt.legend(loc='best')\n",
    "\tplt.xlabel('t')\n",
    "\tplt.grid()\n",
    "\tplt.show()"
   ]
  },
  {
   "cell_type": "code",
   "execution_count": 8,
   "metadata": {
    "collapsed": false
   },
   "outputs": [
    {
     "data": {
      "image/png": "[encoded data removed]",
      "text/plain": [
       "<matplotlib.figure.Figure at 0x7711910>"
      ]
     },
     "metadata": {},
     "output_type": "display_data"
    }
   ],
   "source": [
    "threshold('x')\n",
    "threshold('y')\n",
    "threshold('z')\n",
    "plot('x','y','z')"
   ]
  },
  {
   "cell_type": "code",
   "execution_count": 9,
   "metadata": {
    "collapsed": false
   },
   "outputs": [
    {
     "ename": "SyntaxError",
     "evalue": "invalid syntax (<ipython-input-9-0ffc9bd2bc91>, line 1)",
     "output_type": "error",
     "traceback": [
      "\u001b[0;36m  File \u001b[0;32m\"<ipython-input-9-0ffc9bd2bc91>\"\u001b[0;36m, line \u001b[0;32m1\u001b[0m\n\u001b[0;31m    the start function needs to pair p_time class with s_activate class. only when s_activate\u001b[0m\n\u001b[0m            ^\u001b[0m\n\u001b[0;31mSyntaxError\u001b[0m\u001b[0;31m:\u001b[0m invalid syntax\n"
     ]
    }
   ],
   "source": [
    "#the start function needs to pair p_time class with s_activate class. only when s_activate\n",
    "# gives the go ahead, can we start using p_time.\n",
    "\n",
    "\n",
    "#modelling a feed forward loop. x->y. x->z. y->z. x and y needed.\n",
    "#def ff3(x,y,z):\t#feed forward 3 node model\n",
    "\t\n",
    "\t\n",
    "\t#time = np.linspace(0, 10, 101)\n",
    "\t#nodes = [x,y,z]\t#instances of p_time\n",
    "\t\n",
    "\t\n",
    "\t#x = 0\t#initialize x to concentration 0.\n",
    "\n",
    "\n",
    "#x= p_time(True)\n",
    "#y= p_time(False)\n",
    "#z= p_time(False)\n"
   ]
  },
  {
   "cell_type": "code",
   "execution_count": null,
   "metadata": {
    "collapsed": true
   },
   "outputs": [],
   "source": []
  }
 ],
 "metadata": {
  "kernelspec": {
   "display_name": "Python 2",
   "language": "python",
   "name": "python2"
  },
  "language_info": {
   "codemirror_mode": {
    "name": "ipython",
    "version": 2
   },
   "file_extension": ".py",
   "mimetype": "text/x-python",
   "name": "python",
   "nbconvert_exporter": "python",
   "pygments_lexer": "ipython2",
   "version": "2.7.13"
  }
 },
 "nbformat": 4,
 "nbformat_minor": 2
}
